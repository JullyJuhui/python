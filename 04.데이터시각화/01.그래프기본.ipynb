{
 "cells": [
  {
   "cell_type": "code",
   "execution_count": 109,
   "id": "0284fa0d",
   "metadata": {},
   "outputs": [],
   "source": [
    "import matplotlib.pyplot as plt"
   ]
  },
  {
   "cell_type": "code",
   "execution_count": 110,
   "id": "bb92016c",
   "metadata": {},
   "outputs": [
    {
     "data": {
      "image/png": "[encoded data removed]",
      "text/plain": [
       "<Figure size 640x480 with 1 Axes>"
      ]
     },
     "metadata": {},
     "output_type": "display_data"
    }
   ],
   "source": [
    "x = [-1, 2, 3]  #마이너스 깨짐\n",
    "y = [2, 4, 8]\n",
    "\n",
    "plt.plot(x, y)  #꺾은 선 그래프\n",
    "plt.show()"
   ]
  },
  {
   "cell_type": "code",
   "execution_count": 111,
   "id": "583ece32",
   "metadata": {},
   "outputs": [],
   "source": [
    "#[한글 설정]\n",
    "plt.rc('font', family = 'Malgun Gothic')  #글꼴: family = '글꼴이름'/ ex> Malgun Gothic, ...\n",
    "plt.rc('font', size = 15)  #크기: size = n\n",
    "\n",
    "#마이너스 설정 (한글 사용할때만)\n",
    "plt.rc('axes', unicode_minus = False)"
   ]
  },
  {
   "cell_type": "code",
   "execution_count": 112,
   "id": "14d1205b",
   "metadata": {},
   "outputs": [
    {
     "data": {
      "text/plain": [
       "['DejaVu Sans Mono',\n",
       " 'DejaVu Sans',\n",
       " 'STIXGeneral',\n",
       " 'DejaVu Sans',\n",
       " 'cmb10',\n",
       " 'STIXNonUnicode',\n",
       " 'DejaVu Serif',\n",
       " 'DejaVu Serif',\n",
       " 'DejaVu Serif Display',\n",
       " 'STIXNonUnicode',\n",
       " 'DejaVu Serif',\n",
       " 'DejaVu Sans Mono',\n",
       " 'STIXGeneral',\n",
       " 'DejaVu Sans Mono',\n",
       " 'STIXSizeTwoSym',\n",
       " 'DejaVu Serif',\n",
       " 'STIXSizeOneSym',\n",
       " 'STIXNonUnicode',\n",
       " 'cmex10',\n",
       " 'STIXSizeThreeSym',\n",
       " 'cmsy10',\n",
       " 'cmtt10',\n",
       " 'cmr10',\n",
       " 'STIXSizeFiveSym',\n",
       " 'DejaVu Sans Display',\n",
       " 'STIXSizeFourSym',\n",
       " 'cmmi10',\n",
       " 'DejaVu Sans',\n",
       " 'STIXGeneral',\n",
       " 'STIXSizeTwoSym',\n",
       " 'STIXGeneral',\n",
       " 'STIXSizeThreeSym',\n",
       " 'STIXSizeOneSym',\n",
       " 'cmss10',\n",
       " 'STIXSizeFourSym',\n",
       " 'DejaVu Sans Mono',\n",
       " 'STIXNonUnicode',\n",
       " 'DejaVu Sans',\n",
       " 'Nirmala UI',\n",
       " 'Consolas',\n",
       " 'Segoe Print',\n",
       " 'Lucida Sans Unicode',\n",
       " 'Arial',\n",
       " 'Tahoma',\n",
       " 'Palatino Linotype',\n",
       " 'Times New Roman',\n",
       " 'Corbel',\n",
       " 'Segoe UI',\n",
       " 'Ink Free',\n",
       " 'DejaVu Sans',\n",
       " 'Courier New',\n",
       " 'Corbel',\n",
       " 'DejaVu Sans',\n",
       " 'Segoe UI',\n",
       " 'Trebuchet MS',\n",
       " 'Microsoft PhagsPa',\n",
       " 'Calibri',\n",
       " 'Corbel',\n",
       " 'Trebuchet MS',\n",
       " 'DejaVu Serif',\n",
       " 'Segoe Fluent Icons',\n",
       " 'Carlito',\n",
       " 'Trebuchet MS',\n",
       " 'Palatino Linotype',\n",
       " 'Gulim',\n",
       " 'Gentium Book Basic',\n",
       " 'Microsoft PhagsPa',\n",
       " 'Segoe UI',\n",
       " 'Segoe UI',\n",
       " 'SimSun-ExtB',\n",
       " 'Yu Gothic',\n",
       " 'DejaVu Sans',\n",
       " 'DejaVu Serif',\n",
       " 'Calibri',\n",
       " 'Arial',\n",
       " 'MingLiU-ExtB',\n",
       " 'Cambria',\n",
       " 'Segoe MDL2 Assets',\n",
       " 'Times New Roman',\n",
       " 'Constantia',\n",
       " 'Corbel',\n",
       " 'DejaVu Serif',\n",
       " 'Lucida Console',\n",
       " 'Carlito',\n",
       " 'Javanese Text',\n",
       " 'Calibri',\n",
       " 'DejaVu Sans Mono',\n",
       " 'Franklin Gothic Medium',\n",
       " 'Microsoft Tai Le',\n",
       " 'Arial',\n",
       " 'Cambria',\n",
       " 'DejaVu Sans',\n",
       " 'Yu Gothic',\n",
       " 'Caladea',\n",
       " 'Comic Sans MS',\n",
       " 'DejaVu Sans Mono',\n",
       " 'Calibri',\n",
       " 'Comic Sans MS',\n",
       " 'Arial',\n",
       " 'Candara',\n",
       " 'DejaVu Sans',\n",
       " 'Calibri',\n",
       " 'Trebuchet MS',\n",
       " 'Myanmar Text',\n",
       " 'Franklin Gothic Medium',\n",
       " 'DejaVu Sans',\n",
       " 'Candara',\n",
       " 'Mongolian Baiti',\n",
       " 'Segoe Print',\n",
       " 'Candara',\n",
       " 'Ebrima',\n",
       " 'Georgia',\n",
       " 'Segoe UI Variable',\n",
       " 'Microsoft New Tai Lue',\n",
       " 'Gadugi',\n",
       " 'DejaVu Serif',\n",
       " 'Noto Serif KR',\n",
       " 'Candara',\n",
       " 'Segoe UI',\n",
       " 'Malgun Gothic',\n",
       " 'Microsoft YaHei',\n",
       " 'OpenSymbol',\n",
       " 'Calibri',\n",
       " 'Leelawadee UI',\n",
       " 'Yu Gothic',\n",
       " 'Microsoft JhengHei',\n",
       " 'Yu Gothic',\n",
       " 'Candara',\n",
       " 'Palatino Linotype',\n",
       " 'Myanmar Text',\n",
       " 'Nirmala UI',\n",
       " 'Sans Serif Collection',\n",
       " 'Gabriola',\n",
       " 'Wingdings',\n",
       " 'Corbel',\n",
       " 'SimSun',\n",
       " 'Gadugi',\n",
       " 'Gentium Basic',\n",
       " 'Microsoft Sans Serif',\n",
       " 'Segoe UI',\n",
       " 'Gentium Basic',\n",
       " 'Gentium Basic',\n",
       " 'Georgia',\n",
       " 'Courier New',\n",
       " 'Nirmala UI',\n",
       " 'Arial',\n",
       " 'Constantia',\n",
       " 'Consolas',\n",
       " 'Consolas',\n",
       " 'Constantia',\n",
       " 'Verdana',\n",
       " 'Microsoft JhengHei',\n",
       " 'Microsoft New Tai Lue',\n",
       " 'Microsoft Tai Le',\n",
       " 'Carlito',\n",
       " 'Carlito',\n",
       " 'Times New Roman',\n",
       " 'Microsoft YaHei',\n",
       " 'Sitka',\n",
       " 'Caladea',\n",
       " 'Tahoma',\n",
       " 'Segoe UI Historic',\n",
       " 'Leelawadee UI',\n",
       " 'Verdana',\n",
       " 'MS Gothic',\n",
       " 'Segoe Script',\n",
       " 'Noto Sans KR',\n",
       " 'Gentium Basic',\n",
       " 'Malgun Gothic',\n",
       " 'Leelawadee UI',\n",
       " 'HoloLens MDL2 Assets',\n",
       " 'Microsoft YaHei',\n",
       " 'Batang',\n",
       " 'DejaVu Sans Mono',\n",
       " 'MV Boli',\n",
       " 'Microsoft Himalaya',\n",
       " 'Gentium Book Basic',\n",
       " 'Segoe UI',\n",
       " 'Segoe UI',\n",
       " 'Candara',\n",
       " 'Segoe UI',\n",
       " 'DejaVu Serif',\n",
       " 'Webdings',\n",
       " 'DejaVu Sans',\n",
       " 'Segoe UI Emoji',\n",
       " 'Microsoft JhengHei',\n",
       " 'Segoe UI',\n",
       " 'Microsoft Yi Baiti',\n",
       " 'DejaVu Serif',\n",
       " 'Symbol',\n",
       " 'Segoe UI',\n",
       " 'Sylfaen',\n",
       " 'Georgia',\n",
       " 'Ebrima',\n",
       " 'Gentium Book Basic',\n",
       " 'Impact',\n",
       " 'DejaVu Sans Mono',\n",
       " 'DejaVu Serif',\n",
       " 'Gentium Book Basic',\n",
       " 'Courier New',\n",
       " 'Verdana',\n",
       " 'Segoe UI',\n",
       " 'DejaVu Sans',\n",
       " 'Sitka',\n",
       " 'Comic Sans MS',\n",
       " 'DejaVu Serif',\n",
       " 'Cambria',\n",
       " 'Caladea',\n",
       " 'Comic Sans MS',\n",
       " 'Corbel',\n",
       " 'Courier New',\n",
       " 'Consolas',\n",
       " 'Bahnschrift',\n",
       " 'Constantia',\n",
       " 'DejaVu Sans',\n",
       " 'Cambria',\n",
       " 'Palatino Linotype',\n",
       " 'Verdana',\n",
       " 'Times New Roman',\n",
       " 'Segoe Script',\n",
       " 'Segoe UI Symbol',\n",
       " 'Georgia',\n",
       " 'SimSun-ExtG',\n",
       " 'Caladea',\n",
       " 'Malgun Gothic']"
      ]
     },
     "execution_count": 112,
     "metadata": {},
     "output_type": "execute_result"
    }
   ],
   "source": [
    "#폰트 종류\n",
    "import matplotlib.font_manager as fm\n",
    "flist = fm.fontManager.ttflist\n",
    "\n",
    "#폰트 이름만 출력\n",
    "[f.name for f in flist]"
   ]
  },
  {
   "cell_type": "code",
   "execution_count": 113,
   "id": "06427f76",
   "metadata": {},
   "outputs": [
    {
     "data": {
      "image/png": "[encoded data removed]",
      "text/plain": [
       "<Figure size 640x480 with 1 Axes>"
      ]
     },
     "metadata": {},
     "output_type": "display_data"
    }
   ],
   "source": [
    "plt.plot(x, y)\n",
    "plt.title('꺾은 선 그래프')  #title - 한글 깨짐\n",
    "\n",
    "plt.show()"
   ]
  },
  {
   "cell_type": "code",
   "execution_count": 114,
   "id": "ce5187df",
   "metadata": {},
   "outputs": [
    {
     "data": {
      "image/png": "[encoded data removed]",
      "text/plain": [
       "<Figure size 640x480 with 1 Axes>"
      ]
     },
     "metadata": {},
     "output_type": "display_data"
    }
   ],
   "source": [
    "plt.title('꺾은 선 그래프', size = 20)\n",
    "plt.plot(x, y)\n",
    "plt.rc('font', size = 10)\n",
    "\n",
    "#x, y 레이블 지정\n",
    "plt.xlabel('x축', color = 'red', size = 15, loc = 'right')\n",
    "plt.ylabel('y축', color = 'blue', size = 15, loc = 'top')\n",
    "plt.show()"
   ]
  },
  {
   "cell_type": "code",
   "execution_count": 115,
   "id": "dc55e87f",
   "metadata": {},
   "outputs": [
    {
     "data": {
      "image/png": "[encoded data removed]",
      "text/plain": [
       "<Figure size 640x480 with 1 Axes>"
      ]
     },
     "metadata": {},
     "output_type": "display_data"
    }
   ],
   "source": [
    "plt.plot(x, y)\n",
    "\n",
    "#눈금설정\n",
    "plt.xticks(x)\n",
    "plt.yticks([y for y in range(0, 11, 2)])\n",
    "plt.show()"
   ]
  },
  {
   "cell_type": "code",
   "execution_count": null,
   "id": "ac57c192",
   "metadata": {},
   "outputs": [],
   "source": []
  },
  {
   "cell_type": "code",
   "execution_count": null,
   "id": "186030ed",
   "metadata": {},
   "outputs": [],
   "source": []
  },
  {
   "cell_type": "code",
   "execution_count": null,
   "id": "d6f2b919",
   "metadata": {},
   "outputs": [],
   "source": []
  },
  {
   "cell_type": "code",
   "execution_count": null,
   "id": "57d1447e",
   "metadata": {},
   "outputs": [],
   "source": []
  },
  {
   "cell_type": "code",
   "execution_count": null,
   "id": "c6540892",
   "metadata": {},
   "outputs": [],
   "source": []
  }
 ],
 "metadata": {
  "kernelspec": {
   "display_name": "Python 3",
   "language": "python",
   "name": "python3"
  },
  "language_info": {
   "codemirror_mode": {
    "name": "ipython",
    "version": 3
   },
   "file_extension": ".py",
   "mimetype": "text/x-python",
   "name": "python",
   "nbconvert_exporter": "python",
   "pygments_lexer": "ipython3",
   "version": "3.10.10"
  }
 },
 "nbformat": 4,
 "nbformat_minor": 5
}

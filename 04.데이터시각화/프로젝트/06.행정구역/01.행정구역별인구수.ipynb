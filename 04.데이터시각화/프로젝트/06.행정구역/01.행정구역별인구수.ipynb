{
 "cells": [
  {
   "cell_type": "code",
   "execution_count": 197,
   "id": "e9f15d92",
   "metadata": {},
   "outputs": [],
   "source": [
    "import pandas as pd\n",
    "\n",
    "#warning 지우기\n",
    "import warnings\n",
    "warnings.filterwarnings(action='ignore')"
   ]
  },
  {
   "cell_type": "markdown",
   "id": "fc881043",
   "metadata": {},
   "source": [
    "행정구역별 인구수"
   ]
  },
  {
   "cell_type": "code",
   "execution_count": 198,
   "id": "9d007561",
   "metadata": {},
   "outputs": [
    {
     "data": {
      "text/html": [
       "<div>\n",
       "<style scoped>\n",
       "    .dataframe tbody tr th:only-of-type {\n",
       "        vertical-align: middle;\n",
       "    }\n",
       "\n",
       "    .dataframe tbody tr th {\n",
       "        vertical-align: top;\n",
       "    }\n",
       "\n",
       "    .dataframe thead th {\n",
       "        text-align: right;\n",
       "    }\n",
       "</style>\n",
       "<table border=\"1\" class=\"dataframe\">\n",
       "  <thead>\n",
       "    <tr style=\"text-align: right;\">\n",
       "      <th></th>\n",
       "      <th>행정구역(시군구)별</th>\n",
       "      <th>총인구수 (명)</th>\n",
       "      <th>남자인구수 (명)</th>\n",
       "      <th>여자인구수 (명)</th>\n",
       "    </tr>\n",
       "  </thead>\n",
       "  <tbody>\n",
       "    <tr>\n",
       "      <th>0</th>\n",
       "      <td>전국</td>\n",
       "      <td>51313912</td>\n",
       "      <td>25558944</td>\n",
       "      <td>25754968</td>\n",
       "    </tr>\n",
       "    <tr>\n",
       "      <th>1</th>\n",
       "      <td>서울특별시</td>\n",
       "      <td>9384325</td>\n",
       "      <td>4538354</td>\n",
       "      <td>4845971</td>\n",
       "    </tr>\n",
       "  </tbody>\n",
       "</table>\n",
       "</div>"
      ],
      "text/plain": [
       "  행정구역(시군구)별  총인구수 (명)  남자인구수 (명)  여자인구수 (명)\n",
       "0         전국  51313912   25558944   25754968\n",
       "1      서울특별시   9384325    4538354    4845971"
      ]
     },
     "execution_count": 198,
     "metadata": {},
     "output_type": "execute_result"
    }
   ],
   "source": [
    "df = pd.read_excel('행정구역_202401.xlsx', skiprows=1)\n",
    "df.head(2)"
   ]
  },
  {
   "cell_type": "code",
   "execution_count": 199,
   "id": "8e1f3ed7",
   "metadata": {},
   "outputs": [
    {
     "data": {
      "text/html": [
       "<div>\n",
       "<style scoped>\n",
       "    .dataframe tbody tr th:only-of-type {\n",
       "        vertical-align: middle;\n",
       "    }\n",
       "\n",
       "    .dataframe tbody tr th {\n",
       "        vertical-align: top;\n",
       "    }\n",
       "\n",
       "    .dataframe thead th {\n",
       "        text-align: right;\n",
       "    }\n",
       "</style>\n",
       "<table border=\"1\" class=\"dataframe\">\n",
       "  <thead>\n",
       "    <tr style=\"text-align: right;\">\n",
       "      <th></th>\n",
       "      <th>행정구역2</th>\n",
       "      <th>총인구수</th>\n",
       "      <th>남자인구수</th>\n",
       "      <th>여자인구수</th>\n",
       "      <th>행정구역1</th>\n",
       "    </tr>\n",
       "  </thead>\n",
       "  <tbody>\n",
       "    <tr>\n",
       "      <th>0</th>\n",
       "      <td>전국</td>\n",
       "      <td>51313912</td>\n",
       "      <td>25558944</td>\n",
       "      <td>25754968</td>\n",
       "      <td></td>\n",
       "    </tr>\n",
       "    <tr>\n",
       "      <th>1</th>\n",
       "      <td>서울특별시</td>\n",
       "      <td>9384325</td>\n",
       "      <td>4538354</td>\n",
       "      <td>4845971</td>\n",
       "      <td></td>\n",
       "    </tr>\n",
       "  </tbody>\n",
       "</table>\n",
       "</div>"
      ],
      "text/plain": [
       "   행정구역2      총인구수     남자인구수     여자인구수 행정구역1\n",
       "0     전국  51313912  25558944  25754968      \n",
       "1  서울특별시   9384325   4538354   4845971      "
      ]
     },
     "execution_count": 199,
     "metadata": {},
     "output_type": "execute_result"
    }
   ],
   "source": [
    "df1 = df.copy()\n",
    "df1.columns = ['행정구역2', '총인구수', '남자인구수', '여자인구수']\n",
    "df1['행정구역1']=''\n",
    "df1.head(2)"
   ]
  },
  {
   "cell_type": "code",
   "execution_count": 200,
   "id": "fc490793",
   "metadata": {},
   "outputs": [
    {
     "data": {
      "text/html": [
       "<div>\n",
       "<style scoped>\n",
       "    .dataframe tbody tr th:only-of-type {\n",
       "        vertical-align: middle;\n",
       "    }\n",
       "\n",
       "    .dataframe tbody tr th {\n",
       "        vertical-align: top;\n",
       "    }\n",
       "\n",
       "    .dataframe thead th {\n",
       "        text-align: right;\n",
       "    }\n",
       "</style>\n",
       "<table border=\"1\" class=\"dataframe\">\n",
       "  <thead>\n",
       "    <tr style=\"text-align: right;\">\n",
       "      <th></th>\n",
       "      <th>행정구역1</th>\n",
       "      <th>행정구역2</th>\n",
       "      <th>총인구수</th>\n",
       "      <th>남자인구수</th>\n",
       "      <th>여자인구수</th>\n",
       "    </tr>\n",
       "  </thead>\n",
       "  <tbody>\n",
       "    <tr>\n",
       "      <th>0</th>\n",
       "      <td></td>\n",
       "      <td>전국</td>\n",
       "      <td>51313912</td>\n",
       "      <td>25558944</td>\n",
       "      <td>25754968</td>\n",
       "    </tr>\n",
       "    <tr>\n",
       "      <th>1</th>\n",
       "      <td></td>\n",
       "      <td>서울특별시</td>\n",
       "      <td>9384325</td>\n",
       "      <td>4538354</td>\n",
       "      <td>4845971</td>\n",
       "    </tr>\n",
       "  </tbody>\n",
       "</table>\n",
       "</div>"
      ],
      "text/plain": [
       "  행정구역1  행정구역2      총인구수     남자인구수     여자인구수\n",
       "0           전국  51313912  25558944  25754968\n",
       "1        서울특별시   9384325   4538354   4845971"
      ]
     },
     "execution_count": 200,
     "metadata": {},
     "output_type": "execute_result"
    }
   ],
   "source": [
    "df2 = df1.copy()\n",
    "cols = list(df1.columns)\n",
    "df2 = df1[[cols[-1]] + cols[0:-1]]\n",
    "df2.head(2)"
   ]
  },
  {
   "cell_type": "code",
   "execution_count": 201,
   "id": "74fda817",
   "metadata": {},
   "outputs": [],
   "source": [
    "sidos = ['특별시', '광역시', '자치시', '자치도', '북도', '남도', '경기도']\n",
    "\n",
    "for i in range(1, len(df2)):\n",
    "    for sido in sidos:\n",
    "        if sido in df2.loc[i, '행정구역2']:\n",
    "            df2.loc[i, '행정구역1'] = df2.loc[i, '행정구역2']\n",
    "            df2.loc[i, '행정구역2'] = '소계'"
   ]
  },
  {
   "cell_type": "code",
   "execution_count": 202,
   "id": "ac60527d",
   "metadata": {},
   "outputs": [
    {
     "data": {
      "text/html": [
       "<div>\n",
       "<style scoped>\n",
       "    .dataframe tbody tr th:only-of-type {\n",
       "        vertical-align: middle;\n",
       "    }\n",
       "\n",
       "    .dataframe tbody tr th {\n",
       "        vertical-align: top;\n",
       "    }\n",
       "\n",
       "    .dataframe thead th {\n",
       "        text-align: right;\n",
       "    }\n",
       "</style>\n",
       "<table border=\"1\" class=\"dataframe\">\n",
       "  <thead>\n",
       "    <tr style=\"text-align: right;\">\n",
       "      <th></th>\n",
       "      <th>행정구역1</th>\n",
       "      <th>행정구역2</th>\n",
       "      <th>총인구수</th>\n",
       "      <th>남자인구수</th>\n",
       "      <th>여자인구수</th>\n",
       "    </tr>\n",
       "  </thead>\n",
       "  <tbody>\n",
       "    <tr>\n",
       "      <th>0</th>\n",
       "      <td>전국</td>\n",
       "      <td>합계</td>\n",
       "      <td>51313912</td>\n",
       "      <td>25558944</td>\n",
       "      <td>25754968</td>\n",
       "    </tr>\n",
       "    <tr>\n",
       "      <th>1</th>\n",
       "      <td>서울특별시</td>\n",
       "      <td>소계</td>\n",
       "      <td>9384325</td>\n",
       "      <td>4538354</td>\n",
       "      <td>4845971</td>\n",
       "    </tr>\n",
       "    <tr>\n",
       "      <th>2</th>\n",
       "      <td>서울특별시</td>\n",
       "      <td>종로구</td>\n",
       "      <td>139378</td>\n",
       "      <td>67240</td>\n",
       "      <td>72138</td>\n",
       "    </tr>\n",
       "    <tr>\n",
       "      <th>3</th>\n",
       "      <td>서울특별시</td>\n",
       "      <td>중구</td>\n",
       "      <td>121322</td>\n",
       "      <td>58651</td>\n",
       "      <td>62671</td>\n",
       "    </tr>\n",
       "    <tr>\n",
       "      <th>4</th>\n",
       "      <td>서울특별시</td>\n",
       "      <td>용산구</td>\n",
       "      <td>212175</td>\n",
       "      <td>101793</td>\n",
       "      <td>110382</td>\n",
       "    </tr>\n",
       "  </tbody>\n",
       "</table>\n",
       "</div>"
      ],
      "text/plain": [
       "   행정구역1 행정구역2      총인구수     남자인구수     여자인구수\n",
       "0     전국    합계  51313912  25558944  25754968\n",
       "1  서울특별시    소계   9384325   4538354   4845971\n",
       "2  서울특별시   종로구    139378     67240     72138\n",
       "3  서울특별시    중구    121322     58651     62671\n",
       "4  서울특별시   용산구    212175    101793    110382"
      ]
     },
     "execution_count": 202,
     "metadata": {},
     "output_type": "execute_result"
    }
   ],
   "source": [
    "for i in range(2, len(df2)):\n",
    "    if df2.loc[i, '행정구역1'] == '':\n",
    "        df2.loc[i, '행정구역1'] = df2.loc[i-1, '행정구역1']\n",
    "\n",
    "df2.loc[0, '행정구역1'] = '전국'\n",
    "df2.loc[0, '행정구역2'] = '합계'\n",
    "\n",
    "df2['행정구역2'] = df2['행정구역2'].str.strip()  #str => 행전체 바꿀때\n",
    "\n",
    "df2.head()"
   ]
  },
  {
   "cell_type": "code",
   "execution_count": 203,
   "id": "fdf05bf8",
   "metadata": {},
   "outputs": [],
   "source": [
    "df2.to_csv('행정구역별인구수.csv')"
   ]
  },
  {
   "cell_type": "code",
   "execution_count": 204,
   "id": "c2c2fa95",
   "metadata": {},
   "outputs": [
    {
     "data": {
      "text/html": [
       "<div>\n",
       "<style scoped>\n",
       "    .dataframe tbody tr th:only-of-type {\n",
       "        vertical-align: middle;\n",
       "    }\n",
       "\n",
       "    .dataframe tbody tr th {\n",
       "        vertical-align: top;\n",
       "    }\n",
       "\n",
       "    .dataframe thead th {\n",
       "        text-align: right;\n",
       "    }\n",
       "</style>\n",
       "<table border=\"1\" class=\"dataframe\">\n",
       "  <thead>\n",
       "    <tr style=\"text-align: right;\">\n",
       "      <th></th>\n",
       "      <th>행정구역1</th>\n",
       "      <th>행정구역2</th>\n",
       "      <th>총인구수</th>\n",
       "      <th>남자인구수</th>\n",
       "      <th>여자인구수</th>\n",
       "    </tr>\n",
       "  </thead>\n",
       "  <tbody>\n",
       "    <tr>\n",
       "      <th>0</th>\n",
       "      <td>전국</td>\n",
       "      <td>합계</td>\n",
       "      <td>51313912</td>\n",
       "      <td>25558944</td>\n",
       "      <td>25754968</td>\n",
       "    </tr>\n",
       "    <tr>\n",
       "      <th>1</th>\n",
       "      <td>서울특별시</td>\n",
       "      <td>소계</td>\n",
       "      <td>9384325</td>\n",
       "      <td>4538354</td>\n",
       "      <td>4845971</td>\n",
       "    </tr>\n",
       "    <tr>\n",
       "      <th>2</th>\n",
       "      <td>서울특별시</td>\n",
       "      <td>종로구</td>\n",
       "      <td>139378</td>\n",
       "      <td>67240</td>\n",
       "      <td>72138</td>\n",
       "    </tr>\n",
       "    <tr>\n",
       "      <th>3</th>\n",
       "      <td>서울특별시</td>\n",
       "      <td>중구</td>\n",
       "      <td>121322</td>\n",
       "      <td>58651</td>\n",
       "      <td>62671</td>\n",
       "    </tr>\n",
       "    <tr>\n",
       "      <th>4</th>\n",
       "      <td>서울특별시</td>\n",
       "      <td>용산구</td>\n",
       "      <td>212175</td>\n",
       "      <td>101793</td>\n",
       "      <td>110382</td>\n",
       "    </tr>\n",
       "  </tbody>\n",
       "</table>\n",
       "</div>"
      ],
      "text/plain": [
       "   행정구역1 행정구역2      총인구수     남자인구수     여자인구수\n",
       "0     전국    합계  51313912  25558944  25754968\n",
       "1  서울특별시    소계   9384325   4538354   4845971\n",
       "2  서울특별시   종로구    139378     67240     72138\n",
       "3  서울특별시    중구    121322     58651     62671\n",
       "4  서울특별시   용산구    212175    101793    110382"
      ]
     },
     "execution_count": 204,
     "metadata": {},
     "output_type": "execute_result"
    }
   ],
   "source": [
    "df3 = pd.read_csv('행정구역별인구수.csv', index_col=0)\n",
    "df3.head()"
   ]
  },
  {
   "cell_type": "code",
   "execution_count": 205,
   "id": "cd1eb008",
   "metadata": {},
   "outputs": [
    {
     "data": {
      "text/plain": [
       "array(['전국', '서울특별시', '부산광역시', '대구광역시', '인천광역시', '광주광역시', '대전광역시',\n",
       "       '울산광역시', '세종특별자치시', '경기도', '강원특별자치도', '충청북도', '충청남도', '전북특별자치도',\n",
       "       '전라남도', '경상북도', '경상남도', '제주특별자치도'], dtype=object)"
      ]
     },
     "execution_count": 205,
     "metadata": {},
     "output_type": "execute_result"
    }
   ],
   "source": [
    "df2['행정구역1'].unique()"
   ]
  },
  {
   "cell_type": "code",
   "execution_count": 206,
   "id": "462389cb",
   "metadata": {},
   "outputs": [
    {
     "data": {
      "text/plain": [
       "array(['합계', '소계', '종로구', '중구', '용산구', '성동구', '광진구', '동대문구', '중랑구', '성북구',\n",
       "       '강북구', '도봉구', '노원구', '은평구', '서대문구', '마포구', '양천구', '강서구', '구로구',\n",
       "       '금천구', '영등포구', '동작구', '관악구', '서초구', '강남구', '송파구', '강동구', '서구',\n",
       "       '동구', '영도구', '부산진구', '동래구', '남구', '북구', '해운대구', '사하구', '금정구',\n",
       "       '연제구', '수영구', '사상구', '기장군', '수성구', '달서구', '달성군', '군위군', '중구영종출장소',\n",
       "       '중구용유출장소', '미추홀구', '연수구', '남동구', '부평구', '계양구', '서구검단출장소', '강화군',\n",
       "       '옹진군', '광산구', '유성구', '대덕구', '울주군', '세종시', '수원시', '장안구', '권선구',\n",
       "       '팔달구', '영통구', '성남시', '수정구', '중원구', '분당구', '의정부시', '안양시', '만안구',\n",
       "       '동안구', '부천시', '원미구', '소사구', '오정구', '광명시', '평택시', '송탄출장소', '안중출장소',\n",
       "       '동두천시', '안산시', '상록구', '단원구', '고양시', '덕양구', '일산동구', '일산서구', '과천시',\n",
       "       '구리시', '남양주시', '풍양출장소', '오산시', '시흥시', '군포시', '의왕시', '하남시', '용인시',\n",
       "       '처인구', '기흥구', '수지구', '파주시', '이천시', '안성시', '김포시', '화성시', '화성시동부출장소',\n",
       "       '화성시동탄출장소', '광주시', '양주시', '포천시', '여주시', '연천군', '가평군', '양평군', '춘천시',\n",
       "       '원주시', '강릉시', '동해시', '태백시', '속초시', '삼척시', '홍천군', '횡성군', '영월군',\n",
       "       '평창군', '정선군', '철원군', '화천군', '양구군', '인제군', '고성군', '양양군', '청주시',\n",
       "       '상당구', '서원구', '흥덕구', '청원구', '충주시', '제천시', '보은군', '옥천군', '영동군',\n",
       "       '증평군', '진천군', '괴산군', '음성군', '단양군', '천안시', '동남구', '서북구', '공주시',\n",
       "       '보령시', '아산시', '서산시', '논산시', '계룡시', '당진시', '금산군', '부여군', '서천군',\n",
       "       '청양군', '홍성군', '예산군', '태안군', '전주시', '완산구', '덕진구', '군산시', '익산시',\n",
       "       '정읍시', '남원시', '김제시', '완주군', '진안군', '무주군', '장수군', '임실군', '순창군',\n",
       "       '고창군', '부안군', '목포시', '여수시', '순천시', '나주시', '광양시', '담양군', '곡성군',\n",
       "       '구례군', '고흥군', '보성군', '화순군', '장흥군', '강진군', '해남군', '영암군', '무안군',\n",
       "       '함평군', '영광군', '장성군', '완도군', '진도군', '신안군', '포항시', '경주시', '김천시',\n",
       "       '안동시', '구미시', '영주시', '영천시', '상주시', '문경시', '경산시', '의성군', '청송군',\n",
       "       '영양군', '영덕군', '청도군', '고령군', '성주군', '칠곡군', '예천군', '봉화군', '울진군',\n",
       "       '울릉군', '창원시', '의창구', '성산구', '마산합포구', '마산회원구', '진해구', '진주시', '통영시',\n",
       "       '사천시', '사천남양출장소', '김해시', '장유출장소', '밀양시', '거제시', '양산시', '양산시웅상출장소',\n",
       "       '의령군', '함안군', '창녕군', '남해군', '하동군', '산청군', '함양군', '거창군', '합천군',\n",
       "       '제주시', '서귀포시'], dtype=object)"
      ]
     },
     "execution_count": 206,
     "metadata": {},
     "output_type": "execute_result"
    }
   ],
   "source": [
    "df2['행정구역2'].unique()"
   ]
  },
  {
   "cell_type": "code",
   "execution_count": 214,
   "id": "4bf922a4",
   "metadata": {},
   "outputs": [
    {
     "data": {
      "text/html": [
       "<div>\n",
       "<style scoped>\n",
       "    .dataframe tbody tr th:only-of-type {\n",
       "        vertical-align: middle;\n",
       "    }\n",
       "\n",
       "    .dataframe tbody tr th {\n",
       "        vertical-align: top;\n",
       "    }\n",
       "\n",
       "    .dataframe thead th {\n",
       "        text-align: right;\n",
       "    }\n",
       "</style>\n",
       "<table border=\"1\" class=\"dataframe\">\n",
       "  <thead>\n",
       "    <tr style=\"text-align: right;\">\n",
       "      <th></th>\n",
       "      <th>행정구역1</th>\n",
       "      <th>행정구역2</th>\n",
       "      <th>총인구수</th>\n",
       "      <th>남자인구수</th>\n",
       "      <th>여자인구수</th>\n",
       "    </tr>\n",
       "  </thead>\n",
       "  <tbody>\n",
       "    <tr>\n",
       "      <th>164</th>\n",
       "      <td>충청북도</td>\n",
       "      <td>소계</td>\n",
       "      <td>1592155</td>\n",
       "      <td>809830</td>\n",
       "      <td>782325</td>\n",
       "    </tr>\n",
       "    <tr>\n",
       "      <th>180</th>\n",
       "      <td>충청남도</td>\n",
       "      <td>소계</td>\n",
       "      <td>2130509</td>\n",
       "      <td>1092059</td>\n",
       "      <td>1038450</td>\n",
       "    </tr>\n",
       "    <tr>\n",
       "      <th>290</th>\n",
       "      <td>제주특별자치도</td>\n",
       "      <td>소계</td>\n",
       "      <td>674353</td>\n",
       "      <td>337578</td>\n",
       "      <td>336775</td>\n",
       "    </tr>\n",
       "    <tr>\n",
       "      <th>198</th>\n",
       "      <td>전북특별자치도</td>\n",
       "      <td>소계</td>\n",
       "      <td>1752921</td>\n",
       "      <td>872493</td>\n",
       "      <td>880428</td>\n",
       "    </tr>\n",
       "    <tr>\n",
       "      <th>215</th>\n",
       "      <td>전라남도</td>\n",
       "      <td>소계</td>\n",
       "      <td>1802672</td>\n",
       "      <td>908705</td>\n",
       "      <td>893967</td>\n",
       "    </tr>\n",
       "  </tbody>\n",
       "</table>\n",
       "</div>"
      ],
      "text/plain": [
       "       행정구역1 행정구역2     총인구수    남자인구수    여자인구수\n",
       "164     충청북도    소계  1592155   809830   782325\n",
       "180     충청남도    소계  2130509  1092059  1038450\n",
       "290  제주특별자치도    소계   674353   337578   336775\n",
       "198  전북특별자치도    소계  1752921   872493   880428\n",
       "215     전라남도    소계  1802672   908705   893967"
      ]
     },
     "execution_count": 214,
     "metadata": {},
     "output_type": "execute_result"
    }
   ],
   "source": [
    "filt = df3['행정구역2'] == '소계'\n",
    "df3 = df3[filt]\n",
    "df3.head()"
   ]
  },
  {
   "cell_type": "code",
   "execution_count": 215,
   "id": "76ba49e8",
   "metadata": {},
   "outputs": [
    {
     "data": {
      "text/html": [
       "<div>\n",
       "<style scoped>\n",
       "    .dataframe tbody tr th:only-of-type {\n",
       "        vertical-align: middle;\n",
       "    }\n",
       "\n",
       "    .dataframe tbody tr th {\n",
       "        vertical-align: top;\n",
       "    }\n",
       "\n",
       "    .dataframe thead th {\n",
       "        text-align: right;\n",
       "    }\n",
       "</style>\n",
       "<table border=\"1\" class=\"dataframe\">\n",
       "  <thead>\n",
       "    <tr style=\"text-align: right;\">\n",
       "      <th></th>\n",
       "      <th>총인구수</th>\n",
       "    </tr>\n",
       "    <tr>\n",
       "      <th>행정구역1</th>\n",
       "      <th></th>\n",
       "    </tr>\n",
       "  </thead>\n",
       "  <tbody>\n",
       "    <tr>\n",
       "      <th>경기도</th>\n",
       "      <td>13635250</td>\n",
       "    </tr>\n",
       "    <tr>\n",
       "      <th>경상남도</th>\n",
       "      <td>3248703</td>\n",
       "    </tr>\n",
       "    <tr>\n",
       "      <th>경상북도</th>\n",
       "      <td>2551370</td>\n",
       "    </tr>\n",
       "    <tr>\n",
       "      <th>대구광역시</th>\n",
       "      <td>2373844</td>\n",
       "    </tr>\n",
       "    <tr>\n",
       "      <th>부산광역시</th>\n",
       "      <td>3290964</td>\n",
       "    </tr>\n",
       "    <tr>\n",
       "      <th>서울특별시</th>\n",
       "      <td>9384325</td>\n",
       "    </tr>\n",
       "    <tr>\n",
       "      <th>인천광역시</th>\n",
       "      <td>3000454</td>\n",
       "    </tr>\n",
       "    <tr>\n",
       "      <th>전라남도</th>\n",
       "      <td>1802672</td>\n",
       "    </tr>\n",
       "    <tr>\n",
       "      <th>전북특별자치도</th>\n",
       "      <td>1752921</td>\n",
       "    </tr>\n",
       "    <tr>\n",
       "      <th>충청남도</th>\n",
       "      <td>2130509</td>\n",
       "    </tr>\n",
       "  </tbody>\n",
       "</table>\n",
       "</div>"
      ],
      "text/plain": [
       "             총인구수\n",
       "행정구역1            \n",
       "경기도      13635250\n",
       "경상남도      3248703\n",
       "경상북도      2551370\n",
       "대구광역시     2373844\n",
       "부산광역시     3290964\n",
       "서울특별시     9384325\n",
       "인천광역시     3000454\n",
       "전라남도      1802672\n",
       "전북특별자치도   1752921\n",
       "충청남도      2130509"
      ]
     },
     "execution_count": 215,
     "metadata": {},
     "output_type": "execute_result"
    }
   ],
   "source": [
    "group = df3.groupby('행정구역1')['총인구수'].sum()\n",
    "df4 = group.to_frame('총인구수')\n",
    "sort = df4.sort_values('총인구수', ascending=False)\n",
    "\n",
    "df5 = sort[:10]  #Top10\n",
    "df5 = df5.sort_index()\n",
    "df5"
   ]
  },
  {
   "cell_type": "code",
   "execution_count": 209,
   "id": "ba8a9635",
   "metadata": {},
   "outputs": [],
   "source": [
    "import matplotlib.pyplot as plt\n",
    "plt.rc('font', family='Malgun Gothic')\n",
    "plt.rc('axes', unicode_minus=False)"
   ]
  },
  {
   "cell_type": "code",
   "execution_count": 210,
   "id": "091b3ef4",
   "metadata": {},
   "outputs": [
    {
     "data": {
      "image/png": "[encoded data removed]",
      "text/plain": [
       "<Figure size 640x480 with 1 Axes>"
      ]
     },
     "metadata": {},
     "output_type": "display_data"
    }
   ],
   "source": [
    "#top 10\n",
    "plt.bar(df5.index, df5['총인구수'])\n",
    "\n",
    "plt.xticks(df5.index, rotation=45)\n",
    "\n",
    "plt.show()"
   ]
  },
  {
   "cell_type": "code",
   "execution_count": 242,
   "id": "05ab9b63",
   "metadata": {},
   "outputs": [
    {
     "data": {
      "image/png": "[encoded data removed]",
      "text/plain": [
       "<Figure size 640x480 with 1 Axes>"
      ]
     },
     "metadata": {},
     "output_type": "display_data"
    }
   ],
   "source": [
    "#전체\n",
    "plt.rc('font', size='8')\n",
    "plt.barh(df3['행정구역1'], df3['총인구수']/10000)\n",
    "\n",
    "xticks = [i for i in range(0, 1501, 150)]\n",
    "plt.xticks(xticks, [f'{x:,}만' for x in xticks])\n",
    "\n",
    "for i, p in enumerate(df3['총인구수']/10000):\n",
    "    plt.text(p+67, i-0.1, f'{p:,.02f}만', ha='center', color = 'deeppink', size=7.5)\n",
    "\n",
    "plt.show()"
   ]
  },
  {
   "cell_type": "code",
   "execution_count": null,
   "id": "92e37b7b",
   "metadata": {},
   "outputs": [],
   "source": []
  },
  {
   "cell_type": "code",
   "execution_count": null,
   "id": "02028272",
   "metadata": {},
   "outputs": [],
   "source": []
  },
  {
   "cell_type": "code",
   "execution_count": null,
   "id": "3716fe92",
   "metadata": {},
   "outputs": [],
   "source": []
  },
  {
   "cell_type": "code",
   "execution_count": null,
   "id": "2c52ca71",
   "metadata": {},
   "outputs": [],
   "source": []
  },
  {
   "cell_type": "code",
   "execution_count": null,
   "id": "8c3b2852",
   "metadata": {},
   "outputs": [],
   "source": []
  },
  {
   "cell_type": "code",
   "execution_count": null,
   "id": "402e3fc0",
   "metadata": {},
   "outputs": [],
   "source": []
  },
  {
   "cell_type": "code",
   "execution_count": null,
   "id": "b6e336d9",
   "metadata": {},
   "outputs": [],
   "source": []
  },
  {
   "cell_type": "code",
   "execution_count": null,
   "id": "5cfb5102",
   "metadata": {},
   "outputs": [],
   "source": []
  }
 ],
 "metadata": {
  "kernelspec": {
   "display_name": "Python 3",
   "language": "python",
   "name": "python3"
  },
  "language_info": {
   "codemirror_mode": {
    "name": "ipython",
    "version": 3
   },
   "file_extension": ".py",
   "mimetype": "text/x-python",
   "name": "python",
   "nbconvert_exporter": "python",
   "pygments_lexer": "ipython3",
   "version": "3.10.10"
  }
 },
 "nbformat": 4,
 "nbformat_minor": 5
}
